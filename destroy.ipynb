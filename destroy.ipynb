{
 "cells": [
  {
   "cell_type": "markdown",
   "metadata": {
    "application/vnd.databricks.v1+cell": {
     "cellMetadata": {
      "byteLimit": 2048000,
      "rowLimit": 10000
     },
     "inputWidgets": {},
     "nuid": "444a0b62-da37-41a8-b72e-7af7addf266f",
     "showTitle": false,
     "tableResultSettingsMap": {},
     "title": ""
    }
   },
   "source": [
    "\n",
    "### Casper's Ghost Kitchen Destroyer\n",
    "\n",
    "Select `Run All` to destroy Casper's Databricks environment"
   ]
  },
  {
   "cell_type": "code",
   "execution_count": 0,
   "metadata": {
    "application/vnd.databricks.v1+cell": {
     "cellMetadata": {
      "byteLimit": 2048000,
      "rowLimit": 10000
     },
     "inputWidgets": {},
     "nuid": "afc359c7-cc4d-4cf3-91ba-9fbabfbf160d",
     "showTitle": false,
     "tableResultSettingsMap": {},
     "title": ""
    }
   },
   "outputs": [],
   "source": [
    "%pip install databricks-sdk --upgrade"
   ]
  },
  {
   "cell_type": "code",
   "execution_count": 0,
   "metadata": {
    "application/vnd.databricks.v1+cell": {
     "cellMetadata": {
      "byteLimit": 2048000,
      "rowLimit": 10000
     },
     "inputWidgets": {},
     "nuid": "8b3d2fd6-9fbf-4103-9aca-d6f1e887e5d0",
     "showTitle": false,
     "tableResultSettingsMap": {},
     "title": ""
    }
   },
   "outputs": [],
   "source": [
    "%restart_python"
   ]
  },
  {
   "cell_type": "code",
   "execution_count": 0,
   "metadata": {
    "application/vnd.databricks.v1+cell": {
     "cellMetadata": {
      "byteLimit": 2048000,
      "rowLimit": 10000
     },
     "inputWidgets": {},
     "nuid": "c61e7c48-688f-4994-b692-c2c7c1d33b99",
     "showTitle": false,
     "tableResultSettingsMap": {},
     "title": ""
    }
   },
   "outputs": [],
   "source": [
    "from databricks.sdk import WorkspaceClient\n",
    "import os\n",
    "\n",
    "w = WorkspaceClient()\n",
    "\n",
    "jobs_file = './.state/jobs'\n",
    "if os.path.exists(jobs_file):\n",
    "    with open(jobs_file, 'r') as f:\n",
    "        job_ids = [line.strip() for line in f if line.strip()]\n",
    "\n",
    "    for job_id in job_ids:\n",
    "        print(f\"Found job: {job_id}. Deleting...\")\n",
    "        w.jobs.delete(job_id=int(job_id))\n",
    "        print(f\"Job {job_id} shut down and deleted.\")\n",
    "else:\n",
    "    print(f\"{jobs_file} does not exist. No jobs to delete.\")"
   ]
  },
  {
   "cell_type": "code",
   "execution_count": 0,
   "metadata": {
    "application/vnd.databricks.v1+cell": {
     "cellMetadata": {
      "byteLimit": 2048000,
      "rowLimit": 10000
     },
     "inputWidgets": {},
     "nuid": "6b3bf5f4-e910-4b88-b48e-0b01048337cd",
     "showTitle": false,
     "tableResultSettingsMap": {},
     "title": ""
    }
   },
   "outputs": [],
   "source": [
    "from databricks.sdk import WorkspaceClient\n",
    "import os\n",
    "\n",
    "w = WorkspaceClient()\n",
    "\n",
    "pipelines_file = './.state/pipelines'\n",
    "if os.path.exists(pipelines_file):\n",
    "    with open(pipelines_file, 'r') as f:\n",
    "        pipeline_ids = [line.strip() for line in f if line.strip()]\n",
    "\n",
    "    for pipeline_id in pipeline_ids:\n",
    "        print(f\"Found pipeline: {pipeline_id}. Deleting...\")\n",
    "        w.pipelines.delete(pipeline_id=pipeline_id)\n",
    "        print(f\"Pipeline {pipeline_id} and all its assets deleted.\")\n",
    "else:\n",
    "    print(f\"{pipelines_file} does not exist. No pipelines to delete.\")"
   ]
  },
  {
   "cell_type": "code",
   "execution_count": 0,
   "metadata": {
    "application/vnd.databricks.v1+cell": {
     "cellMetadata": {
      "byteLimit": 2048000,
      "rowLimit": 10000
     },
     "inputWidgets": {},
     "nuid": "91cee5a6-89d6-4e82-8f15-b1d3c579f92b",
     "showTitle": false,
     "tableResultSettingsMap": {},
     "title": ""
    }
   },
   "outputs": [],
   "source": [
    "from databricks.sdk import WorkspaceClient\n",
    "import os\n",
    "\n",
    "from mlflow.deployments import get_deploy_client\n",
    "client = get_deploy_client(\"databricks\")\n",
    "\n",
    "models_file = './.state/models'\n",
    "if os.path.exists(models_file):\n",
    "    with open(models_file, 'r') as f:\n",
    "        endpoint_names = [line.strip() for line in f if line.strip()]\n",
    "\n",
    "    for endpoint_name in endpoint_names:\n",
    "        print(f\"Found model: {endpoint_name}. Deleting...\")\n",
    "        client.delete_endpoint(endpoint=endpoint_name)\n",
    "        print(f\"Model {endpoint_name} and all its assets deleted.\")\n",
    "else:\n",
    "    print(f\"{models_file} does not exist. No pipelines to delete.\")"
   ]
  },
  {
   "cell_type": "code",
   "execution_count": 0,
   "metadata": {
    "application/vnd.databricks.v1+cell": {
     "cellMetadata": {
      "byteLimit": 2048000,
      "rowLimit": 10000
     },
     "inputWidgets": {},
     "nuid": "a0fd59bf-f495-4bf8-999e-8f9c4a730023",
     "showTitle": false,
     "tableResultSettingsMap": {},
     "title": ""
    }
   },
   "outputs": [],
   "source": [
    "from databricks.sdk import WorkspaceClient\n",
    "import os\n",
    "\n",
    "w = WorkspaceClient()\n",
    "\n",
    "apps_file = './.state/apps'\n",
    "if os.path.exists(apps_file):\n",
    "    with open(apps_file, 'r') as f:\n",
    "        app_names = [line.strip() for line in f if line.strip()]\n",
    "\n",
    "    for app_name in app_names:\n",
    "        print(f\"Found app: {app_name}. Deleting...\")\n",
    "        w.apps.delete(app_name)\n",
    "        print(f\"App {app_name} and all its assets deleted.\")\n",
    "else:\n",
    "    print(f\"{apps_file} does not exist. No apps to delete.\")"
   ]
  },
  {
   "cell_type": "code",
   "execution_count": 0,
   "metadata": {
    "application/vnd.databricks.v1+cell": {
     "cellMetadata": {
      "byteLimit": 2048000,
      "rowLimit": 10000
     },
     "inputWidgets": {},
     "nuid": "60cdfba1-1f3f-45a3-98ff-e85155224b82",
     "showTitle": false,
     "tableResultSettingsMap": {},
     "title": ""
    }
   },
   "outputs": [],
   "source": [
    "from databricks.sdk import WorkspaceClient\n",
    "import os\n",
    "\n",
    "w = WorkspaceClient()\n",
    "\n",
    "dbinstances_file = './.state/databaseinstances'\n",
    "if os.path.exists(dbinstances_file):\n",
    "    with open(dbinstances_file, 'r') as f:\n",
    "        db_instance_names = [line.strip() for line in f if line.strip()]\n",
    "\n",
    "    for db_instance_name in db_instance_names:\n",
    "        print(f\"Found database instance: {db_instance_name}. Deleting...\")\n",
    "        w.database.delete_database_instance(name=db_instance_name)\n",
    "        print(f\"Database instance {db_instance_name} and all its assets deleted.\")\n",
    "else:\n",
    "    print(f\"{dbinstances_file} does not exist. No database instances to delete.\")"
   ]
  },
  {
   "cell_type": "code",
   "execution_count": 0,
   "metadata": {
    "application/vnd.databricks.v1+cell": {
     "cellMetadata": {
      "byteLimit": 2048000,
      "rowLimit": 10000
     },
     "inputWidgets": {},
     "nuid": "e39436a3-9026-42ed-aa99-73309f09cd82",
     "showTitle": false,
     "tableResultSettingsMap": {},
     "title": ""
    }
   },
   "outputs": [],
   "source": [
    "import shutil\n",
    "import os\n",
    "\n",
    "state_dir = './.state'\n",
    "if os.path.exists(state_dir):\n",
    "    shutil.rmtree(state_dir)"
   ]
  },
  {
   "cell_type": "code",
   "execution_count": 0,
   "metadata": {
    "application/vnd.databricks.v1+cell": {
     "cellMetadata": {
      "byteLimit": 2048000,
      "implicitDf": true,
      "rowLimit": 10000
     },
     "inputWidgets": {},
     "nuid": "f4149da3-178c-4a26-bd52-3185e45ece03",
     "showTitle": false,
     "tableResultSettingsMap": {},
     "title": ""
    }
   },
   "outputs": [],
   "source": [
    "%sql\n",
    "DROP CATALOG IF EXISTS IDENTIFIER(:CATALOG) CASCADE;\n",
    "DROP CATALOG IF EXISTS IDENTIFIER(:CATALOG || 'refundmanager') CASCADE"
   ]
  },
  {
   "cell_type": "code",
   "execution_count": 0,
   "metadata": {
    "application/vnd.databricks.v1+cell": {
     "cellMetadata": {},
     "inputWidgets": {},
     "nuid": "20072a9d-6731-46d7-8d04-744dac0dc727",
     "showTitle": false,
     "tableResultSettingsMap": {},
     "title": ""
    }
   },
   "outputs": [],
   "source": []
  }
 ],
 "metadata": {
  "application/vnd.databricks.v1+notebook": {
   "computePreferences": null,
   "dashboards": [],
   "environmentMetadata": {
    "base_environment": "",
    "environment_version": "3"
   },
   "inputWidgetPreferences": null,
   "language": "python",
   "notebookMetadata": {
    "mostRecentlyExecutedCommandWithImplicitDF": {
     "commandId": 5241498588669022,
     "dataframes": [
      "_sqldf"
     ]
    },
    "pythonIndentUnit": 4
   },
   "notebookName": "destroy",
   "widgets": {
    "CATALOG": {
     "currentValue": "cazzper",
     "nuid": "6bec1649-a0df-4b8c-acef-aeb2251e2d57",
     "typedWidgetInfo": {
      "autoCreated": false,
      "defaultValue": "",
      "label": "",
      "name": "CATALOG",
      "options": {
       "widgetDisplayType": "Text",
       "validationRegex": null
      },
      "parameterDataType": "String"
     },
     "widgetInfo": {
      "widgetType": "text",
      "defaultValue": "",
      "label": "",
      "name": "CATALOG",
      "options": {
       "widgetType": "text",
       "autoCreated": false,
       "validationRegex": null
      }
     }
    }
   }
  },
  "language_info": {
   "name": "python"
  }
 },
 "nbformat": 4,
 "nbformat_minor": 0
}

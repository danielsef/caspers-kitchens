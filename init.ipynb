{
 "cells": [
  {
   "cell_type": "markdown",
   "metadata": {
    "application/vnd.databricks.v1+cell": {
     "cellMetadata": {},
     "inputWidgets": {},
     "nuid": "ddd5b0fd-469c-4eb8-b467-64c128596d15",
     "showTitle": false,
     "tableResultSettingsMap": {},
     "title": ""
    }
   },
   "source": [
    "\n",
    "### Casper's Ghost Kitchen\n",
    "\n",
    "Select `Run All` to initialize this notebook.\n",
    "\n",
    "#### What specifically does this notebook do\n",
    "\n",
    "1. Create's a catalog, by default, `caspers`, where all of Casper's assets live.\n",
    "2. Create's a schema, `simulator`, which houses Casper's dimensional data tables (brands, menus, categories, and items) and a Volume (`events`) for raw JSON events"
   ]
  },
  {
   "cell_type": "code",
   "execution_count": 0,
   "metadata": {
    "application/vnd.databricks.v1+cell": {
     "cellMetadata": {},
     "inputWidgets": {},
     "nuid": "a4174305-d906-42bc-99d0-79b4e608a613",
     "showTitle": false,
     "tableResultSettingsMap": {},
     "title": ""
    }
   },
   "outputs": [],
   "source": [
    "%sql\n",
    "CREATE CATALOG IF NOT EXISTS :CATALOG"
   ]
  }
 ],
 "metadata": {
  "application/vnd.databricks.v1+notebook": {
   "computePreferences": null,
   "dashboards": [],
   "environmentMetadata": {
    "base_environment": "",
    "environment_version": "3"
   },
   "inputWidgetPreferences": null,
   "language": "python",
   "notebookMetadata": {
    "pythonIndentUnit": 4
   },
   "notebookName": "init",
   "widgets": {
    "CATALOG": {
     "currentValue": "caspers",
     "nuid": "11cbec7a-980d-492b-af6d-47c909c273ce",
     "typedWidgetInfo": {
      "autoCreated": false,
      "defaultValue": "caspers",
      "label": "",
      "name": "CATALOG",
      "options": {
       "widgetDisplayType": "Text",
       "validationRegex": null
      },
      "parameterDataType": "String"
     },
     "widgetInfo": {
      "widgetType": "text",
      "defaultValue": "caspers",
      "label": "",
      "name": "CATALOG",
      "options": {
       "widgetType": "text",
       "autoCreated": false,
       "validationRegex": null
      }
     }
    }
   }
  },
  "language_info": {
   "name": "python"
  }
 },
 "nbformat": 4,
 "nbformat_minor": 0
}

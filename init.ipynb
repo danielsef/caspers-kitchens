{
 "cells": [
  {
   "cell_type": "markdown",
   "metadata": {
    "application/vnd.databricks.v1+cell": {
     "cellMetadata": {
      "byteLimit": 2048000,
      "rowLimit": 10000
     },
     "inputWidgets": {},
     "nuid": "ddd5b0fd-469c-4eb8-b467-64c128596d15",
     "showTitle": false,
     "tableResultSettingsMap": {},
     "title": ""
    }
   },
   "source": [
    "\n",
    "### Casper's Ghost Kitchen Initializer\n",
    "\n",
    "Select `Run All` to create the job `Casper's Initializer`. Once this notebook has been run you can initialize the Casper's environment using the job, which also allows you to selectively create only parts of the demo (broken into tasks within the job)"
   ]
  },
  {
   "cell_type": "code",
   "execution_count": 0,
   "metadata": {
    "application/vnd.databricks.v1+cell": {
     "cellMetadata": {
      "byteLimit": 2048000,
      "rowLimit": 10000
     },
     "inputWidgets": {},
     "nuid": "45bf8d75-b68f-4025-95df-41b9909f2361",
     "showTitle": false,
     "tableResultSettingsMap": {},
     "title": ""
    }
   },
   "outputs": [],
   "source": [
    "%pip install --upgrade databricks-sdk"
   ]
  },
  {
   "cell_type": "code",
   "execution_count": 0,
   "metadata": {
    "application/vnd.databricks.v1+cell": {
     "cellMetadata": {
      "byteLimit": 2048000,
      "rowLimit": 10000
     },
     "inputWidgets": {},
     "nuid": "19fe1502-c847-4132-9149-46635a242995",
     "showTitle": false,
     "tableResultSettingsMap": {},
     "title": ""
    }
   },
   "outputs": [],
   "source": [
    "dbutils.library.restartPython()"
   ]
  },
  {
   "cell_type": "code",
   "execution_count": 0,
   "metadata": {
    "application/vnd.databricks.v1+cell": {
     "cellMetadata": {
      "byteLimit": 2048000,
      "rowLimit": 10000
     },
     "inputWidgets": {},
     "nuid": "1d1d1f12-be67-4d2f-bee4-59a9cc79313c",
     "showTitle": false,
     "tableResultSettingsMap": {},
     "title": ""
    }
   },
   "outputs": [],
   "source": [
    "CATALOG = dbutils.widgets.get(\"CATALOG\")"
   ]
  },
  {
   "cell_type": "code",
   "execution_count": 0,
   "metadata": {
    "application/vnd.databricks.v1+cell": {
     "cellMetadata": {
      "byteLimit": 2048000,
      "rowLimit": 10000
     },
     "inputWidgets": {},
     "nuid": "0639bcef-fd51-4ba2-8f2f-8cea09272e9a",
     "showTitle": false,
     "tableResultSettingsMap": {},
     "title": ""
    }
   },
   "outputs": [],
   "source": [
    "from databricks.sdk.service.jobs import JobSettings as Job\n",
    "import os\n",
    "\n",
    "Casper_s_Initializer = Job.from_dict(\n",
    "    {\n",
    "        \"name\": \"Casper's Initializer\",\n",
    "        \"tasks\": [\n",
    "            {\n",
    "                \"task_key\": \"Raw_Data\",\n",
    "                \"notebook_task\": {\n",
    "                    \"notebook_path\": os.path.abspath(\"./notebooks/raw_data\"),\n",
    "                    \"source\": \"WORKSPACE\",\n",
    "                },\n",
    "            },\n",
    "            {\n",
    "                \"task_key\": \"Lakeflow\",\n",
    "                \"depends_on\": [\n",
    "                    {\n",
    "                        \"task_key\": \"Raw_Data\",\n",
    "                    },\n",
    "                ],\n",
    "                \"notebook_task\": {\n",
    "                    \"notebook_path\": os.path.abspath(\"./notebooks/lakeflow\"),\n",
    "                    \"source\": \"WORKSPACE\",\n",
    "                },\n",
    "            },\n",
    "            {\n",
    "                \"task_key\": \"Refund_Recommender_Agent\",\n",
    "                \"depends_on\": [\n",
    "                    {\n",
    "                        \"task_key\": \"Lakeflow\",\n",
    "                    },\n",
    "                ],\n",
    "                \"notebook_task\": {\n",
    "                    \"notebook_path\": os.path.abspath(\"./notebooks/refunder_agent\"),\n",
    "                    \"source\": \"WORKSPACE\",\n",
    "                },\n",
    "            },\n",
    "            {\n",
    "                \"task_key\": \"Refund_Recommender_Stream\",\n",
    "                \"depends_on\": [\n",
    "                    {\n",
    "                        \"task_key\": \"Refund_Recommender_Agent\",\n",
    "                    },\n",
    "                ],\n",
    "                \"notebook_task\": {\n",
    "                    \"notebook_path\": os.path.abspath(\"./notebooks/refunder_stream\"),\n",
    "                    \"source\": \"WORKSPACE\",\n",
    "                },\n",
    "            },\n",
    "            {\n",
    "                \"task_key\": \"Lakebase\",\n",
    "                \"depends_on\": [\n",
    "                    {\n",
    "                        \"task_key\": \"Refund_Recommender_Stream\",\n",
    "                    },\n",
    "                ],\n",
    "                \"notebook_task\": {\n",
    "                    \"notebook_path\": os.path.abspath(\"./notebooks/lakebase\"),\n",
    "                    \"source\": \"WORKSPACE\",\n",
    "                },\n",
    "            },\n",
    "            {\n",
    "                \"task_key\": \"App_Refund_Manager\",\n",
    "                \"depends_on\": [\n",
    "                    {\n",
    "                        \"task_key\": \"Lakebase\",\n",
    "                    },\n",
    "                ],\n",
    "                \"notebook_task\": {\n",
    "                    \"notebook_path\": os.path.abspath(\"./notebooks/apps\"),\n",
    "                    \"source\": \"WORKSPACE\",\n",
    "                },\n",
    "            },\n",
    "        ],\n",
    "        \"queue\": {\n",
    "            \"enabled\": True,\n",
    "        },\n",
    "        \"parameters\": [\n",
    "            {\n",
    "                \"name\": \"CATALOG\",\n",
    "                \"default\": f\"{CATALOG}\",\n",
    "            },\n",
    "            {\n",
    "                \"name\": \"EVENTS_VOLUME\",\n",
    "                \"default\": \"events\",\n",
    "            },\n",
    "            {\n",
    "                \"name\": \"LLM_MODEL\",\n",
    "                \"default\": \"databricks-meta-llama-3-3-70b-instruct\",\n",
    "            },\n",
    "            {\n",
    "                \"name\": \"REFUND_AGENT_ENDPOINT_NAME\",\n",
    "                \"default\": \"caspers_refund_agent\",\n",
    "            },\n",
    "            {\n",
    "                \"name\": \"SIMULATOR_SCHEMA\",\n",
    "                \"default\": \"simulator\",\n",
    "            },\n",
    "        ],\n",
    "        \"performance_target\": \"PERFORMANCE_OPTIMIZED\",\n",
    "    }\n",
    ")\n",
    "\n",
    "from databricks.sdk import WorkspaceClient\n",
    "\n",
    "w = WorkspaceClient()\n",
    "w.jobs.create(**Casper_s_Initializer.as_shallow_dict())"
   ]
  }
 ],
 "metadata": {
  "application/vnd.databricks.v1+notebook": {
   "computePreferences": null,
   "dashboards": [],
   "environmentMetadata": {
    "base_environment": "",
    "environment_version": "3"
   },
   "inputWidgetPreferences": null,
   "language": "python",
   "notebookMetadata": {
    "mostRecentlyExecutedCommandWithImplicitDF": {
     "commandId": 8588875451726566,
     "dataframes": [
      "_sqldf"
     ]
    },
    "pythonIndentUnit": 4
   },
   "notebookName": "init",
   "widgets": {
    "CATALOG": {
     "currentValue": "casperz",
     "nuid": "11cbec7a-980d-492b-af6d-47c909c273ce",
     "typedWidgetInfo": {
      "autoCreated": false,
      "defaultValue": "caspers",
      "label": "",
      "name": "CATALOG",
      "options": {
       "widgetDisplayType": "Text",
       "validationRegex": null
      },
      "parameterDataType": "String"
     },
     "widgetInfo": {
      "widgetType": "text",
      "defaultValue": "caspers",
      "label": "",
      "name": "CATALOG",
      "options": {
       "widgetType": "text",
       "autoCreated": false,
       "validationRegex": null
      }
     }
    }
   }
  },
  "language_info": {
   "name": "python"
  }
 },
 "nbformat": 4,
 "nbformat_minor": 0
}

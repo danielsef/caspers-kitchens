{
 "cells": [
  {
   "cell_type": "markdown",
   "metadata": {
    "application/vnd.databricks.v1+cell": {
     "cellMetadata": {},
     "inputWidgets": {},
     "nuid": "d9dd8d3e-2923-4e16-9435-bd2fd134d94f",
     "showTitle": false,
     "tableResultSettingsMap": {},
     "title": ""
    }
   },
   "source": [
    "\n",
    "##### refunder stream\n",
    "\n",
    "this notebook starts a stream to score completed orders for potential refunds"
   ]
  },
  {
   "cell_type": "code",
   "execution_count": 0,
   "metadata": {
    "application/vnd.databricks.v1+cell": {
     "cellMetadata": {},
     "inputWidgets": {},
     "nuid": "6d900cee-ca27-478e-a61f-c42559ce12d6",
     "showTitle": false,
     "tableResultSettingsMap": {},
     "title": ""
    }
   },
   "outputs": [],
   "source": [
    "%pip install --upgrade databricks-sdk"
   ]
  },
  {
   "cell_type": "code",
   "execution_count": 0,
   "metadata": {
    "application/vnd.databricks.v1+cell": {
     "cellMetadata": {},
     "inputWidgets": {},
     "nuid": "b1736348-0509-44af-886c-0a95ee55498b",
     "showTitle": false,
     "tableResultSettingsMap": {},
     "title": ""
    }
   },
   "outputs": [],
   "source": [
    "#### TODO: for some reason the experiments tracing page is not registering the calls made through this, investigate that\n",
    "###         update: i believe this happens because the experiment created by the task of this job (see ./jobs/refund_recommender_stream) comes from a \"notebook\" that is ephemeral (exists only for the scope of the job) and so inference calls outside the runtime of the job go nowhere"
   ]
  },
  {
   "cell_type": "code",
   "execution_count": null,
   "metadata": {
    "application/vnd.databricks.v1+cell": {
     "cellMetadata": {},
     "inputWidgets": {},
     "nuid": "f2c5360a-7c62-4ad3-9823-e381f91d31f1",
     "showTitle": false,
     "tableResultSettingsMap": {},
     "title": ""
    }
   },
   "outputs": [],
   "source": [
    "from databricks.sdk import WorkspaceClient\n",
    "import databricks.sdk.service.jobs as j\n",
    "import os, json\n",
    "\n",
    "w = WorkspaceClient()\n",
    "\n",
    "# Resolve the workspace notebook path (keeps your approach)\n",
    "notebook_abs_path = os.path.abspath(\"../jobs/refund_recommender_stream\")\n",
    "notebook_dbx_path = notebook_abs_path.replace(\n",
    "    os.environ.get(\"DATABRICKS_WORKSPACE_ROOT\", \"/Workspace\"),\n",
    "    \"/Workspace\"\n",
    ")\n",
    "\n",
    "state_dir = \"../.state\"\n",
    "os.makedirs(state_dir, exist_ok=True)\n",
    "jobs_file_path = os.path.join(state_dir, \"jobs\")\n",
    "\n",
    "job = w.jobs.create(\n",
    "    name=\"Refund Recommender Stream\",\n",
    "    schedule=j.CronSchedule(\n",
    "        quartz_cron_expression=\"0 0/10 * * * ?\",\n",
    "        timezone_id=\"UTC\",\n",
    "        pause_status=j.PauseStatus.UNPAUSED),\n",
    "    tasks=[\n",
    "        j.Task(\n",
    "            task_key=\"refund_recommender_stream\",\n",
    "            notebook_task=j.NotebookTask(\n",
    "                notebook_path=notebook_dbx_path,\n",
    "                base_parameters={\n",
    "                    \"CATALOG\": dbutils.widgets.get(\"CATALOG\"),\n",
    "                    \"REFUND_AGENT_ENDPOINT_NAME\": dbutils.widgets.get(\"REFUND_AGENT_ENDPOINT_NAME\")\n",
    "                },\n",
    "            )\n",
    "        )\n",
    "    ],\n",
    ")\n",
    "print(f\"Created job_id={job.job_id}\")\n",
    "\n",
    "import sys\n",
    "sys.path.append('../utils')\n",
    "from uc_state import add\n",
    "\n",
    "add(dbutils.widgets.get(\"CATALOG\"), \"jobs\", job)\n",
    "\n",
    "w.jobs.run_now(job_id=job.job_id)\n"
   ]
  }
 ],
 "metadata": {
  "application/vnd.databricks.v1+notebook": {
   "computePreferences": null,
   "dashboards": [],
   "environmentMetadata": {
    "base_environment": "",
    "environment_version": "3"
   },
   "inputWidgetPreferences": null,
   "language": "python",
   "notebookMetadata": {
    "pythonIndentUnit": 4
   },
   "notebookName": "refunder_stream",
   "widgets": {
    "CATALOG": {
     "currentValue": "",
     "nuid": "4fed5096-973b-4a59-acc5-e4a96cc00360",
     "typedWidgetInfo": {
      "autoCreated": false,
      "defaultValue": "",
      "label": "",
      "name": "CATALOG",
      "options": {
       "validationRegex": null,
       "widgetDisplayType": "Text"
      },
      "parameterDataType": "String"
     },
     "widgetInfo": {
      "defaultValue": "",
      "label": "",
      "name": "CATALOG",
      "options": {
       "autoCreated": false,
       "validationRegex": null,
       "widgetType": "text"
      },
      "widgetType": "text"
     }
    },
    "REFUND_AGENT_ENDPOINT_NAME": {
     "currentValue": "",
     "nuid": "f8358127-303e-4f0e-ac3c-e686c70adce6",
     "typedWidgetInfo": {
      "autoCreated": false,
      "defaultValue": "",
      "label": "",
      "name": "REFUND_AGENT_ENDPOINT_NAME",
      "options": {
       "validationRegex": null,
       "widgetDisplayType": "Text"
      },
      "parameterDataType": "String"
     },
     "widgetInfo": {
      "defaultValue": "",
      "label": "",
      "name": "REFUND_AGENT_ENDPOINT_NAME",
      "options": {
       "autoCreated": false,
       "validationRegex": null,
       "widgetType": "text"
      },
      "widgetType": "text"
     }
    }
   }
  },
  "language_info": {
   "name": "python"
  }
 },
 "nbformat": 4,
 "nbformat_minor": 0
}

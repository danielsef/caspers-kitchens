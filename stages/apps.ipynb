{
 "cells": [
  {
   "cell_type": "code",
   "execution_count": 0,
   "metadata": {
    "application/vnd.databricks.v1+cell": {
     "cellMetadata": {
      "byteLimit": 2048000,
      "rowLimit": 10000
     },
     "inputWidgets": {},
     "nuid": "57d5ef69-54d8-4362-9634-0bfd94bc0b87",
     "showTitle": false,
     "tableResultSettingsMap": {},
     "title": ""
    }
   },
   "outputs": [],
   "source": [
    "%pip install databricks-sdk --upgrade"
   ]
  },
  {
   "cell_type": "code",
   "execution_count": 0,
   "metadata": {
    "application/vnd.databricks.v1+cell": {
     "cellMetadata": {
      "byteLimit": 2048000,
      "rowLimit": 10000
     },
     "inputWidgets": {},
     "nuid": "cb30ddf3-2a01-45a8-a7bd-4615a79b9158",
     "showTitle": false,
     "tableResultSettingsMap": {},
     "title": ""
    }
   },
   "outputs": [],
   "source": [
    "CATALOG = dbutils.widgets.get(\"CATALOG\")\n",
    "REFUNDMANAGER_LAKEBASE_INSTANCE_NAME = f\"{CATALOG}refundmanager\""
   ]
  },
  {
   "cell_type": "code",
   "execution_count": null,
   "metadata": {},
   "outputs": [],
   "source": [
    "import sys\n",
    "sys.path.append('../utils')\n",
    "from uc_state import add"
   ]
  },
  {
   "cell_type": "code",
   "execution_count": 0,
   "metadata": {
    "application/vnd.databricks.v1+cell": {
     "cellMetadata": {
      "byteLimit": 2048000,
      "rowLimit": 10000
     },
     "inputWidgets": {},
     "nuid": "642684b2-5b19-4927-bfeb-e53e632813cc",
     "showTitle": false,
     "tableResultSettingsMap": {},
     "title": ""
    }
   },
   "outputs": [],
   "source": [
    "from databricks.sdk import WorkspaceClient\n",
    "from databricks.sdk.service import sql\n",
    "\n",
    "w = WorkspaceClient()\n",
    "\n",
    "warehouse = w.warehouses.create(\n",
    "    name=f\"{CATALOG}-warehouse\",\n",
    "    cluster_size=\"2X-Small\",\n",
    "    max_num_clusters=1,\n",
    "    min_num_clusters=1,\n",
    "    enable_serverless_compute=True\n",
    ").result()\n",
    "\n",
    "add(CATALOG, \"warehouses\", warehouse)"
   ]
  },
  {
   "cell_type": "code",
   "execution_count": 0,
   "metadata": {
    "application/vnd.databricks.v1+cell": {
     "cellMetadata": {
      "byteLimit": 2048000,
      "rowLimit": 10000
     },
     "inputWidgets": {},
     "nuid": "535f6730-a58f-4846-849a-96738fe5148d",
     "showTitle": false,
     "tableResultSettingsMap": {},
     "title": ""
    }
   },
   "outputs": [],
   "source": [
    "print(warehouse)"
   ]
  },
  {
   "cell_type": "code",
   "execution_count": 0,
   "metadata": {
    "application/vnd.databricks.v1+cell": {
     "cellMetadata": {
      "byteLimit": 2048000,
      "rowLimit": 10000
     },
     "inputWidgets": {},
     "nuid": "d11e551c-5ddf-4ebf-a1c5-d31d1ae5db41",
     "showTitle": false,
     "tableResultSettingsMap": {},
     "title": ""
    }
   },
   "outputs": [],
   "source": [
    "app_yaml_contents = f\"\"\"command:\n",
    "  - uvicorn \n",
    "  - app.main:app\n",
    "env:\n",
    "  - name: DATABRICKS_WAREHOUSE_ID\n",
    "    value: '{warehouse.id}'\n",
    "  - name: DATABRICKS_CATALOG\n",
    "    value: '{CATALOG}'\n",
    "\"\"\"\n",
    "\n",
    "# for some reason we need to remove it first before this works\n",
    "import os\n",
    "if os.path.exists(\"../apps/refund-manager/app.yaml\"):\n",
    "    os.remove(\"../apps/refund-manager/app.yaml\")\n",
    "\n",
    "import time\n",
    "time.sleep(3)\n",
    "\n",
    "with open(\"../apps/refund-manager/app.yaml\", \"w\") as f:\n",
    "    f.write(app_yaml_contents)"
   ]
  },
  {
   "cell_type": "code",
   "execution_count": 0,
   "metadata": {
    "application/vnd.databricks.v1+cell": {
     "cellMetadata": {
      "byteLimit": 2048000,
      "rowLimit": 10000
     },
     "inputWidgets": {},
     "nuid": "cb44bec0-71aa-4d21-8a5d-c4ad08a7643d",
     "showTitle": false,
     "tableResultSettingsMap": {},
     "title": ""
    }
   },
   "outputs": [],
   "source": [
    "from databricks.sdk.service.apps import App, AppResource, AppResourceSqlWarehouse, AppResourceDatabase, AppResourceSqlWarehouseSqlWarehousePermission, AppResourceDatabaseDatabasePermission\n",
    "import os\n",
    "\n",
    "source_code_path = os.path.abspath(\"../apps/refund-manager\")\n",
    "\n",
    "app = w.apps.create(\n",
    "    App(\n",
    "        name=f\"{CATALOG}-refundmanager\",\n",
    "        default_source_code_path=source_code_path,\n",
    "        resources=[\n",
    "            AppResource(\n",
    "                name=\"sql-warehouse\",\n",
    "                sql_warehouse=AppResourceSqlWarehouse(\n",
    "                    id=warehouse.id, \n",
    "                    permission=AppResourceSqlWarehouseSqlWarehousePermission.CAN_USE)                \n",
    "            ),\n",
    "            AppResource(\n",
    "                name=\"database\",\n",
    "                database=AppResourceDatabase(\n",
    "                    instance_name=f\"{REFUNDMANAGER_LAKEBASE_INSTANCE_NAME}\",\n",
    "                    database_name=\"caspers\",\n",
    "                    permission=AppResourceDatabaseDatabasePermission.CAN_CONNECT_AND_CREATE\n",
    "                )\n",
    "            )\n",
    "        ]\n",
    "    )\n",
    ")"
   ]
  },
  {
   "cell_type": "code",
   "execution_count": 0,
   "metadata": {
    "application/vnd.databricks.v1+cell": {
     "cellMetadata": {
      "byteLimit": 2048000,
      "rowLimit": 10000
     },
     "inputWidgets": {},
     "nuid": "752e30d4-463f-43ce-bd9f-5be143af55c6",
     "showTitle": false,
     "tableResultSettingsMap": {},
     "title": ""
    }
   },
   "outputs": [],
   "source": [
    "# blocks until app is ready\n",
    "app_status = app.result()\n",
    "\n",
    "# add to state\n",
    "add(CATALOG, \"apps\", app_status)"
   ]
  },
  {
   "cell_type": "code",
   "execution_count": null,
   "metadata": {},
   "outputs": [],
   "source": [
    "# grant app permissions to catalog, schema, `all_events` table for reading events\n",
    "from databricks.sdk.service import catalog\n",
    "\n",
    "w.grants.update(\n",
    "    full_name=f\"{CATALOG}\",\n",
    "    securable_type=\"CATALOG\",\n",
    "    changes=[\n",
    "        catalog.PermissionsChange(\n",
    "            add=[catalog.Privilege.USE_CATALOG],\n",
    "            principal=app_status.id\n",
    "        )\n",
    "    ]\n",
    ")\n",
    "\n",
    "w.grants.update(\n",
    "    full_name=f\"{CATALOG}.lakeflow\",\n",
    "    securable_type=\"SCHEMA\",\n",
    "    changes=[\n",
    "        catalog.PermissionsChange(\n",
    "            add=[catalog.Privilege.USE_SCHEMA],\n",
    "            principal=app_status.id\n",
    "        )\n",
    "    ]\n",
    ")\n",
    "\n",
    "w.grants.update(\n",
    "    full_name=f\"{CATALOG}.lakeflow.all_events\",\n",
    "    securable_type=\"TABLE\",\n",
    "    changes=[\n",
    "        catalog.PermissionsChange(\n",
    "            add=[catalog.Privilege.SELECT],\n",
    "            principal=app_status.id\n",
    "        )\n",
    "    ]\n",
    ")"
   ]
  },
  {
   "cell_type": "code",
   "execution_count": 0,
   "metadata": {
    "application/vnd.databricks.v1+cell": {
     "cellMetadata": {
      "byteLimit": 2048000,
      "rowLimit": 10000
     },
     "inputWidgets": {},
     "nuid": "44b92362-ba40-4e7c-a78c-a8cd648750eb",
     "showTitle": false,
     "tableResultSettingsMap": {},
     "title": ""
    }
   },
   "outputs": [],
   "source": [
    "# there's no clean way to update the apps role in postgres so we delete it & recreate it\n",
    "# TODO: figure this out\n",
    "\n",
    "from databricks.sdk import WorkspaceClient\n",
    "from databricks.sdk.service.database import (\n",
    "    DatabaseInstanceRole,\n",
    "    DatabaseInstanceRoleIdentityType,\n",
    "    DatabaseInstanceRoleMembershipRole,\n",
    ")\n",
    "\n",
    "w = WorkspaceClient()\n",
    "\n",
    "INSTANCE = f\"{REFUNDMANAGER_LAKEBASE_INSTANCE_NAME}\"\n",
    "APP_ID  = app_status.id         \n",
    "\n",
    "current_user = dbutils.notebook.entry_point.getDbutils().notebook().getContext().userName().get()\n",
    "w.database.delete_database_instance_role(INSTANCE, APP_ID, reassign_owned_to=current_user)\n",
    "\n",
    "role = DatabaseInstanceRole(\n",
    "    name=APP_ID,\n",
    "    identity_type=DatabaseInstanceRoleIdentityType.SERVICE_PRINCIPAL,\n",
    "    membership_role=DatabaseInstanceRoleMembershipRole.DATABRICKS_SUPERUSER,\n",
    ")\n",
    "\n",
    "# Creates the role\n",
    "w.database.create_database_instance_role(INSTANCE, role)"
   ]
  },
  {
   "cell_type": "code",
   "execution_count": 0,
   "metadata": {
    "application/vnd.databricks.v1+cell": {
     "cellMetadata": {
      "byteLimit": 2048000,
      "rowLimit": 10000
     },
     "inputWidgets": {},
     "nuid": "159f8115-1bad-4d72-8f36-62042fbdeaf1",
     "showTitle": false,
     "tableResultSettingsMap": {},
     "title": ""
    }
   },
   "outputs": [],
   "source": [
    "app_status"
   ]
  },
  {
   "cell_type": "code",
   "execution_count": 0,
   "metadata": {
    "application/vnd.databricks.v1+cell": {
     "cellMetadata": {
      "byteLimit": 2048000,
      "rowLimit": 10000
     },
     "inputWidgets": {},
     "nuid": "a1fc9fa2-0bad-433a-b975-e3dfb988da8e",
     "showTitle": false,
     "tableResultSettingsMap": {},
     "title": ""
    }
   },
   "outputs": [],
   "source": [
    "from databricks.sdk.service.apps import AppDeployment\n",
    "\n",
    "deployment = w.apps.deploy(\n",
    "    app_name=app_status.name,\n",
    "    app_deployment=AppDeployment(\n",
    "        source_code_path=source_code_path\n",
    "    )\n",
    ")\n",
    "deployment_status = deployment.result()\n",
    "display(deployment_status)"
   ]
  }
 ],
 "metadata": {
  "application/vnd.databricks.v1+notebook": {
   "computePreferences": null,
   "dashboards": [],
   "environmentMetadata": {
    "base_environment": "",
    "environment_version": "3"
   },
   "inputWidgetPreferences": null,
   "language": "python",
   "notebookMetadata": {
    "pythonIndentUnit": 4
   },
   "notebookName": "apps",
   "widgets": {
    "CATALOG": {
     "currentValue": "cazzper",
     "nuid": "65530636-5ecb-40c8-b410-4d64ad0602b3",
     "typedWidgetInfo": {
      "autoCreated": false,
      "defaultValue": "",
      "label": "",
      "name": "CATALOG",
      "options": {
       "validationRegex": null,
       "widgetDisplayType": "Text"
      },
      "parameterDataType": "String"
     },
     "widgetInfo": {
      "defaultValue": "",
      "label": "",
      "name": "CATALOG",
      "options": {
       "autoCreated": false,
       "validationRegex": null,
       "widgetType": "text"
      },
      "widgetType": "text"
     }
    }
   }
  },
  "language_info": {
   "name": "python"
  }
 },
 "nbformat": 4,
 "nbformat_minor": 0
}

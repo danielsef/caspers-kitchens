{
 "cells": [
  {
   "cell_type": "code",
   "execution_count": 0,
   "metadata": {
    "application/vnd.databricks.v1+cell": {
     "cellMetadata": {
      "byteLimit": 2048000,
      "rowLimit": 10000
     },
     "inputWidgets": {},
     "nuid": "1c4c079b-307d-4445-9f4d-4bb65c2a9bbe",
     "showTitle": false,
     "tableResultSettingsMap": {},
     "title": ""
    }
   },
   "outputs": [],
   "source": [
    "CATALOG = dbutils.widgets.get(\"CATALOG\")\n",
    "REFUNDMANAGER_LAKEBASE_INSTANCE_NAME = f\"{CATALOG}refundmanager\""
   ]
  },
  {
   "cell_type": "code",
   "execution_count": 0,
   "metadata": {
    "application/vnd.databricks.v1+cell": {
     "cellMetadata": {
      "byteLimit": 2048000,
      "rowLimit": 10000
     },
     "inputWidgets": {},
     "nuid": "2e691724-d672-4857-82a3-ad2b2114417c",
     "showTitle": false,
     "tableResultSettingsMap": {},
     "title": ""
    }
   },
   "outputs": [],
   "source": [
    "%pip install databricks-sdk --upgrade"
   ]
  },
  {
   "cell_type": "code",
   "execution_count": 0,
   "metadata": {
    "application/vnd.databricks.v1+cell": {
     "cellMetadata": {
      "byteLimit": 2048000,
      "rowLimit": 10000
     },
     "inputWidgets": {},
     "nuid": "7160a660-ea15-4e86-9c93-166728a0dec2",
     "showTitle": false,
     "tableResultSettingsMap": {},
     "title": ""
    }
   },
   "outputs": [],
   "source": [
    "from databricks.sdk import WorkspaceClient\n",
    "from databricks.sdk.service.database import DatabaseInstance\n",
    "import uuid\n",
    "import time\n",
    "\n",
    "# Initialize the Workspace client\n",
    "w = WorkspaceClient()\n",
    "\n",
    "UNIQUE = str(uuid.uuid4())[:8]\n",
    "\n",
    "# Create a database instance\n",
    "instance = w.database.create_database_instance(\n",
    "    DatabaseInstance(\n",
    "        name=f\"{REFUNDMANAGER_LAKEBASE_INSTANCE_NAME}\",\n",
    "        capacity=\"CU_1\"\n",
    "    )\n",
    ")\n",
    "\n",
    "print(f\"Created database instance: {instance.name}\")\n",
    "print(f\"Connection endpoint: {instance.response.read_write_dns}\")\n",
    "\n",
    "# block until it's actually ready\n",
    "print(\"Waiting for database instance to be available...\")\n",
    "while True:\n",
    "    if str(w.database.get_database_instance(instance.name).state) == \"DatabaseInstanceState.AVAILABLE\":\n",
    "        print(str(w.database.get_database_instance(instance.name).state))\n",
    "        break\n",
    "    time.sleep(10)"
   ]
  },
  {
   "cell_type": "code",
   "execution_count": 0,
   "metadata": {
    "application/vnd.databricks.v1+cell": {
     "cellMetadata": {
      "byteLimit": 2048000,
      "rowLimit": 10000
     },
     "inputWidgets": {},
     "nuid": "9fe12046-6846-4ff8-9ed0-c263ca634a2f",
     "showTitle": false,
     "tableResultSettingsMap": {},
     "title": ""
    }
   },
   "outputs": [],
   "source": [
    "# create a database `caspers` in the lakebase instance\n",
    "# register it to UC as concat of CATALOG-INSTANCE_NAME (params)\n",
    "\n",
    "from databricks.sdk.service.database import DatabaseCatalog\n",
    "\n",
    "catalog = w.database.create_database_catalog(\n",
    "    DatabaseCatalog(\n",
    "        name=f\"{REFUNDMANAGER_LAKEBASE_INSTANCE_NAME}\",                   # Name of the UC catalog to create\n",
    "        database_instance_name=REFUNDMANAGER_LAKEBASE_INSTANCE_NAME, # Name of the database instance\n",
    "        database_name=\"caspers\",         # Name of the Postgres database to register (and optionally create)\n",
    "        create_database_if_not_exists=True    # Create the database if it doesn't exist\n",
    "    )\n",
    ")\n",
    "print(f\"Created new database and catalog: {catalog.name}\")"
   ]
  },
  {
   "cell_type": "code",
   "execution_count": 0,
   "metadata": {
    "application/vnd.databricks.v1+cell": {
     "cellMetadata": {
      "byteLimit": 2048000,
      "rowLimit": 10000
     },
     "inputWidgets": {},
     "nuid": "3f104624-0728-4605-aa89-0c0a18f294b7",
     "showTitle": false,
     "tableResultSettingsMap": {},
     "title": ""
    }
   },
   "outputs": [],
   "source": [
    "from databricks.sdk import WorkspaceClient\n",
    "from databricks.sdk.service.database import SyncedDatabaseTable, SyncedTableSpec, NewPipelineSpec, SyncedTableSchedulingPolicy\n",
    "\n",
    "# Initialize the Workspace client\n",
    "w = WorkspaceClient()\n",
    "\n",
    "# Create a synced table in a standard UC catalog\n",
    "synced_table = w.database.create_synced_database_table(\n",
    "    SyncedDatabaseTable(\n",
    "        name=f\"{CATALOG}.recommender.pg_recommendations\",  # Full three-part name\n",
    "        database_instance_name=instance.name,  # Required for standard catalogs\n",
    "        logical_database_name=\"caspers\",  # Required for standard catalogs\n",
    "        spec=SyncedTableSpec(\n",
    "            source_table_full_name=f\"{CATALOG}.recommender.refund_recommendations\",\n",
    "            primary_key_columns=[\"order_id\"],\n",
    "            scheduling_policy=SyncedTableSchedulingPolicy.CONTINUOUS,\n",
    "            create_database_objects_if_missing=True,  # Create database/schema if needed\n",
    "            new_pipeline_spec=NewPipelineSpec(\n",
    "                storage_catalog=\"storage_catalog\",\n",
    "                storage_schema=\"storage_schema\"\n",
    "            )\n",
    "        ),\n",
    "    )\n",
    ")\n",
    "print(f\"Created synced table: {synced_table.name}\")"
   ]
  },
  {
   "cell_type": "code",
   "execution_count": 0,
   "metadata": {
    "application/vnd.databricks.v1+cell": {
     "cellMetadata": {
      "byteLimit": 2048000,
      "rowLimit": 10000
     },
     "inputWidgets": {},
     "nuid": "f30172c2-ee4a-4143-8010-0b62a6db7600",
     "showTitle": false,
     "tableResultSettingsMap": {},
     "title": ""
    }
   },
   "outputs": [],
   "source": [
    "import os\n",
    "state_dir = \"../.state\"\n",
    "pipelines_file_path = os.path.join(state_dir, \"databaseinstances\")\n",
    "with open(pipelines_file_path, \"a\") as f:\n",
    "    f.write(f\"{REFUNDMANAGER_LAKEBASE_INSTANCE_NAME}\\n\")"
   ]
  },
  {
   "cell_type": "code",
   "execution_count": 0,
   "metadata": {
    "application/vnd.databricks.v1+cell": {
     "cellMetadata": {
      "byteLimit": 2048000,
      "rowLimit": 10000
     },
     "inputWidgets": {},
     "nuid": "b2a6e440-cd6d-42f0-9396-f5905c4e3c41",
     "showTitle": false,
     "tableResultSettingsMap": {},
     "title": ""
    }
   },
   "outputs": [],
   "source": [
    "import os\n",
    "state_dir = \"../.state\"\n",
    "pipelines_file_path = os.path.join(state_dir, \"pipelines\")\n",
    "with open(pipelines_file_path, \"a\") as f:\n",
    "    f.write(f\"{synced_table.data_synchronization_status.pipeline_id}\\n\")"
   ]
  }
 ],
 "metadata": {
  "application/vnd.databricks.v1+notebook": {
   "computePreferences": null,
   "dashboards": [],
   "environmentMetadata": {
    "base_environment": "",
    "environment_version": "3"
   },
   "inputWidgetPreferences": null,
   "language": "python",
   "notebookMetadata": {
    "pythonIndentUnit": 4
   },
   "notebookName": "lakebase",
   "widgets": {
    "CATALOG": {
     "currentValue": "cazzper",
     "nuid": "73cb92d5-f843-4e41-92d6-5081124a02c9",
     "typedWidgetInfo": {
      "autoCreated": false,
      "defaultValue": "",
      "label": "",
      "name": "CATALOG",
      "options": {
       "widgetDisplayType": "Text",
       "validationRegex": null
      },
      "parameterDataType": "String"
     },
     "widgetInfo": {
      "widgetType": "text",
      "defaultValue": "",
      "label": "",
      "name": "CATALOG",
      "options": {
       "widgetType": "text",
       "autoCreated": false,
       "validationRegex": null
      }
     }
    }
   }
  },
  "language_info": {
   "name": "python"
  }
 },
 "nbformat": 4,
 "nbformat_minor": 0
}

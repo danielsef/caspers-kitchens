{
 "cells": [
  {
   "cell_type": "markdown",
   "metadata": {
    "application/vnd.databricks.v1+cell": {
     "cellMetadata": {},
     "inputWidgets": {},
     "nuid": "14a10bae-42e6-4e06-81fa-c6d2336d157a",
     "showTitle": false,
     "tableResultSettingsMap": {},
     "title": ""
    }
   },
   "source": [
    "\n",
    "### Raw Data\n",
    "\n",
    "This notebook assumes raw_data has already run and creates a medallion architecture declarative pipeline to normalize the event stream and create summary tables"
   ]
  },
  {
   "cell_type": "code",
   "execution_count": 0,
   "metadata": {
    "application/vnd.databricks.v1+cell": {
     "cellMetadata": {},
     "inputWidgets": {},
     "nuid": "2953476c-3a7a-406c-b3f7-c1b45f1f7ca0",
     "showTitle": false,
     "tableResultSettingsMap": {},
     "title": ""
    }
   },
   "outputs": [],
   "source": [
    "%pip install --upgrade databricks-sdk"
   ]
  },
  {
   "cell_type": "code",
   "execution_count": 0,
   "metadata": {
    "application/vnd.databricks.v1+cell": {
     "cellMetadata": {},
     "inputWidgets": {},
     "nuid": "e8704c18-8794-4ac2-8d7e-1c69bb3b4371",
     "showTitle": false,
     "tableResultSettingsMap": {},
     "title": ""
    }
   },
   "outputs": [],
   "source": [
    "CATALOG = dbutils.widgets.get(\"CATALOG\")\n",
    "EVENTS_VOLUME = dbutils.widgets.get(\"EVENTS_VOLUME\")\n",
    "SIMULATOR_SCHEMA = dbutils.widgets.get(\"SIMULATOR_SCHEMA\")"
   ]
  },
  {
   "cell_type": "code",
   "execution_count": 0,
   "metadata": {
    "application/vnd.databricks.v1+cell": {
     "cellMetadata": {},
     "inputWidgets": {},
     "nuid": "69dfc806-58b2-43d5-b13e-29d2661ca099",
     "showTitle": false,
     "tableResultSettingsMap": {},
     "title": ""
    }
   },
   "outputs": [],
   "source": [
    "import os\n",
    "import time\n",
    "\n",
    "from databricks.sdk import WorkspaceClient\n",
    "from databricks.sdk.service import pipelines\n",
    "\n",
    "w = WorkspaceClient()\n",
    "\n",
    "root_abs_path = os.path.abspath(\"../pipelines/order_items\")\n",
    "root_dbx_path = root_abs_path.replace(\n",
    "    os.environ.get(\"DATABRICKS_WORKSPACE_ROOT\", \"/Workspace\"),\n",
    "    \"/Workspace\"\n",
    ")\n",
    "\n",
    "created = w.pipelines.create(\n",
    "    catalog=CATALOG,\n",
    "    schema='lakeflow',\n",
    "    continuous=True,\n",
    "    name=f\"Order Items Medallion Declarative Pipeline\",\n",
    "    serverless=True,\n",
    "    configuration={\n",
    "        \"RAW_DATA_CATALOG\":CATALOG,\n",
    "        \"RAW_DATA_SCHEMA\":SIMULATOR_SCHEMA,\n",
    "        \"RAW_DATA_VOLUME\":EVENTS_VOLUME\n",
    "    },\n",
    "    root_path=root_dbx_path,\n",
    "    libraries=[pipelines.PipelineLibrary(glob=pipelines.PathPattern(include=f\"{root_dbx_path}/**\"))],\n",
    "    allow_duplicate_names=True\n",
    ")\n",
    "\n",
    "print(f\"Created pipeline_id={created.pipeline_id}\")\n",
    "\n"
   ]
  },
  {
   "cell_type": "code",
   "execution_count": 0,
   "metadata": {
    "application/vnd.databricks.v1+cell": {
     "cellMetadata": {},
     "inputWidgets": {},
     "nuid": "78fe42c2-32da-4526-ac02-99094ac85d0a",
     "showTitle": false,
     "tableResultSettingsMap": {},
     "title": ""
    }
   },
   "outputs": [],
   "source": [
    "# wait for the tables to be created\n",
    "# future stages may require their existence before being able to be run\n",
    "\n",
    "import time\n",
    "\n",
    "while True:\n",
    "    try:\n",
    "        if spark.catalog.tableExists(f\"{CATALOG}.lakeflow.all_events\"):\n",
    "            break\n",
    "    except Exception:\n",
    "        pass\n",
    "    time.sleep(5)"
   ]
  },
  {
   "cell_type": "code",
   "execution_count": null,
   "metadata": {
    "application/vnd.databricks.v1+cell": {
     "cellMetadata": {},
     "inputWidgets": {},
     "nuid": "24a507e5-644b-42de-91d4-3214146ae409",
     "showTitle": false,
     "tableResultSettingsMap": {},
     "title": ""
    }
   },
   "outputs": [],
   "source": "state_dir = \"../.state\"\npipelines_file_path = os.path.join(state_dir, \"pipelines\")\nwith open(pipelines_file_path, \"a\") as f:\n    f.write(f\"{created.pipeline_id}\\n\")\n\n# Also add to UC-state\nimport sys\nsys.path.append('../utils')\nfrom uc_state import create_state_manager\n\nstate_manager = create_state_manager(CATALOG)\nstate_manager.add(\"pipelines\", created)"
  }
 ],
 "metadata": {
  "application/vnd.databricks.v1+notebook": {
   "computePreferences": null,
   "dashboards": [],
   "environmentMetadata": {
    "base_environment": "",
    "environment_version": "3"
   },
   "inputWidgetPreferences": null,
   "language": "python",
   "notebookMetadata": {
    "pythonIndentUnit": 4
   },
   "notebookName": "lakeflow",
   "widgets": {
    "CATALOG": {
     "currentValue": "",
     "nuid": "1b879c13-e967-45d3-9848-122420dc1369",
     "typedWidgetInfo": {
      "autoCreated": false,
      "defaultValue": "",
      "label": null,
      "name": "CATALOG",
      "options": {
       "validationRegex": null,
       "widgetDisplayType": "Text"
      },
      "parameterDataType": "String"
     },
     "widgetInfo": {
      "defaultValue": "",
      "label": null,
      "name": "CATALOG",
      "options": {
       "autoCreated": false,
       "validationRegex": null,
       "widgetType": "text"
      },
      "widgetType": "text"
     }
    },
    "EVENTS_VOLUME": {
     "currentValue": "",
     "nuid": "267538f4-e4bf-4e45-a232-83760867245e",
     "typedWidgetInfo": {
      "autoCreated": false,
      "defaultValue": "",
      "label": null,
      "name": "EVENTS_VOLUME",
      "options": {
       "validationRegex": null,
       "widgetDisplayType": "Text"
      },
      "parameterDataType": "String"
     },
     "widgetInfo": {
      "defaultValue": "",
      "label": null,
      "name": "EVENTS_VOLUME",
      "options": {
       "autoCreated": false,
       "validationRegex": null,
       "widgetType": "text"
      },
      "widgetType": "text"
     }
    },
    "SIMULATOR_SCHEMA": {
     "currentValue": "",
     "nuid": "1eebe964-7af5-44a0-9d82-804fa88755f7",
     "typedWidgetInfo": {
      "autoCreated": false,
      "defaultValue": "",
      "label": null,
      "name": "SIMULATOR_SCHEMA",
      "options": {
       "validationRegex": null,
       "widgetDisplayType": "Text"
      },
      "parameterDataType": "String"
     },
     "widgetInfo": {
      "defaultValue": "",
      "label": null,
      "name": "SIMULATOR_SCHEMA",
      "options": {
       "autoCreated": false,
       "validationRegex": null,
       "widgetType": "text"
      },
      "widgetType": "text"
     }
    }
   }
  },
  "language_info": {
   "name": "python"
  }
 },
 "nbformat": 4,
 "nbformat_minor": 0
}
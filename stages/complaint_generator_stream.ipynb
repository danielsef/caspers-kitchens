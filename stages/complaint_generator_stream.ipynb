{
 "cells": [
  {
   "cell_type": "markdown",
   "metadata": {},
   "source": [
    "##### Complaint Generator Stream\n",
    "\n",
    "This notebook creates a scheduled job to generate customer complaints from delivered orders"
   ]
  },
  {
   "cell_type": "code",
   "execution_count": null,
   "metadata": {},
   "outputs": [],
   "source": [
    "%pip install --upgrade databricks-sdk"
   ]
  },
  {
   "cell_type": "code",
   "execution_count": null,
   "metadata": {},
   "outputs": [],
   "source": [
    "from databricks.sdk import WorkspaceClient\n",
    "import databricks.sdk.service.jobs as j\n",
    "import os\n",
    "\n",
    "w = WorkspaceClient()\n",
    "\n",
    "# Resolve the workspace notebook path\n",
    "notebook_abs_path = os.path.abspath(\"../jobs/complaint_generator\")\n",
    "notebook_dbx_path = notebook_abs_path.replace(\n",
    "    os.environ.get(\"DATABRICKS_WORKSPACE_ROOT\", \"/Workspace\"),\n",
    "    \"/Workspace\"\n",
    ")\n",
    "\n",
    "job = w.jobs.create(\n",
    "    name=\"Complaint Generator Stream\",\n",
    "    schedule=j.CronSchedule(\n",
    "        quartz_cron_expression=\"0 0/10 * * * ?\",  # Every 10 minutes\n",
    "        timezone_id=\"UTC\",\n",
    "        pause_status=j.PauseStatus.UNPAUSED),\n",
    "    tasks=[\n",
    "        j.Task(\n",
    "            task_key=\"complaint_generator_stream\",\n",
    "            notebook_task=j.NotebookTask(\n",
    "                notebook_path=notebook_dbx_path,\n",
    "                base_parameters={\n",
    "                    \"CATALOG\": dbutils.widgets.get(\"CATALOG\"),\n",
    "                    \"COMPLAINT_RATE\": dbutils.widgets.get(\"COMPLAINT_RATE\"),\n",
    "                    \"LLM_MODEL\": dbutils.widgets.get(\"LLM_MODEL\")\n",
    "                },\n",
    "            )\n",
    "        )\n",
    "    ],\n",
    ")\n",
    "print(f\"Created job_id={job.job_id}\")\n",
    "\n",
    "import sys\n",
    "sys.path.append('../utils')\n",
    "from uc_state import add\n",
    "\n",
    "add(dbutils.widgets.get(\"CATALOG\"), \"jobs\", job)\n",
    "\n",
    "w.jobs.run_now(job_id=job.job_id)"
   ]
  }
 ],
 "metadata": {
  "kernelspec": {
   "display_name": "Python 3",
   "language": "python",
   "name": "python3"
  },
  "language_info": {
   "name": "python",
   "version": "3.9.0"
  }
 },
 "nbformat": 4,
 "nbformat_minor": 2
}

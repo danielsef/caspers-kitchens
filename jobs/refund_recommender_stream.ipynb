{
 "cells": [
  {
   "cell_type": "markdown",
   "metadata": {
    "application/vnd.databricks.v1+cell": {
     "cellMetadata": {},
     "inputWidgets": {},
     "nuid": "d9dd8d3e-2923-4e16-9435-bd2fd134d94f",
     "showTitle": false,
     "tableResultSettingsMap": {},
     "title": ""
    }
   },
   "source": [
    "\n",
    "##### refunder stream\n",
    "\n",
    "this notebook starts a stream to score completed orders for potential refunds"
   ]
  },
  {
   "cell_type": "code",
   "execution_count": 0,
   "metadata": {
    "application/vnd.databricks.v1+cell": {
     "cellMetadata": {},
     "inputWidgets": {},
     "nuid": "54b5ea14-d02b-413b-9f69-86b932322ec0",
     "showTitle": false,
     "tableResultSettingsMap": {},
     "title": ""
    }
   },
   "outputs": [],
   "source": [
    "DATABRICKS_TOKEN = dbutils.notebook.entry_point.getDbutils().notebook().getContext().apiToken().getOrElse(None)\n",
    "DATABRICKS_HOST = dbutils.notebook.entry_point.getDbutils().notebook().getContext().apiUrl().getOrElse(None)\n",
    "\n",
    "CATALOG = dbutils.widgets.get(\"CATALOG\")\n",
    "REFUND_AGENT_ENDPOINT_NAME = dbutils.widgets.get(\"REFUND_AGENT_ENDPOINT_NAME\")"
   ]
  },
  {
   "cell_type": "code",
   "execution_count": 0,
   "metadata": {
    "application/vnd.databricks.v1+cell": {
     "cellMetadata": {},
     "inputWidgets": {},
     "nuid": "b2af6e4b-0a96-4810-9c15-eedb7e84db67",
     "showTitle": false,
     "tableResultSettingsMap": {},
     "title": ""
    }
   },
   "outputs": [],
   "source": [
    "%pip install openai"
   ]
  },
  {
   "cell_type": "code",
   "execution_count": null,
   "metadata": {},
   "outputs": [],
   "source": [
    "# In the canonical full demo run this stream job will start BEFORE the agent is actually ready\n",
    "# (because model serving deployment from previous stage takes 15~20min)\n",
    "# So, we seed some fake responses, and return them instead while the model isn't yet loaded\n",
    "# See next cell too\n",
    "fake_responses = [\n",
    "    {\n",
    "        \"refund_usd\": 0.0,\n",
    "        \"refund_class\": \"none\",\n",
    "        \"reason\": \"Order was delivered within the P75 delivery time\",\n",
    "    },\n",
    "    {\n",
    "        \"refund_usd\": 0.0,\n",
    "        \"refund_class\": \"none\",\n",
    "        \"reason\": \"Order was delivered within the P75 delivery time\",\n",
    "    },\n",
    "    {\n",
    "        \"refund_usd\": 4.47,\n",
    "        \"refund_class\": \"partial\",\n",
    "        \"reason\": \"Order was delivered late by 1.6 minutes\",\n",
    "    },\n",
    "    {\n",
    "        \"refund_usd\": 0.0,\n",
    "        \"refund_class\": \"none\",\n",
    "        \"reason\": \"Order was delivered on time\",\n",
    "    },\n",
    "    {\n",
    "        \"refund_usd\": 8.91,\n",
    "        \"refund_class\": \"partial\",\n",
    "        \"reason\": \"Order was delivered late by 5.5875 minutes\",\n",
    "    },\n",
    "    {\n",
    "        \"refund_usd\": 5.48,\n",
    "        \"refund_class\": \"partial\",\n",
    "        \"reason\": \"Order was delivered 1.9 minutes after the P75 delivery time\",\n",
    "    },\n",
    "    {\n",
    "        \"refund_usd\": 0.0,\n",
    "        \"refund_class\": \"none\",\n",
    "        \"reason\": \"Order was delivered on time\",\n",
    "    },\n",
    "    {\n",
    "        \"refund_usd\": 9.25,\n",
    "        \"refund_class\": \"partial\",\n",
    "        \"reason\": \"Order was delivered 18.9 minutes after creation, which is less than the P75 delivery time of 32.804165 minutes, but still late compared to the P50 delivery time of 29.016666 minutes\",\n",
    "    },\n",
    "    {\n",
    "        \"refund_usd\": 11.34,\n",
    "        \"refund_class\": \"partial\",\n",
    "        \"reason\": \"Order was delivered in 25.35 minutes, which is between the 75th percentile (32.80 minutes) and the 99th percentile (38.84 minutes) for the Bellevue location\",\n",
    "    },\n",
    "    {\n",
    "        \"refund_usd\": 8.66,\n",
    "        \"refund_class\": \"partial\",\n",
    "        \"reason\": \"Order was late by 2.6625 minutes\",\n",
    "    },\n",
    "    {\n",
    "        \"refund_usd\": 4.93,\n",
    "        \"refund_class\": \"partial\",\n",
    "        \"reason\": \"Order was late by 2.175 minutes\",\n",
    "    },\n",
    "    {\n",
    "        \"refund_usd\": 0.0,\n",
    "        \"refund_class\": \"none\",\n",
    "        \"reason\": \"Order was delivered on time\",\n",
    "    },\n",
    "    {\n",
    "        \"refund_usd\": 12.34,\n",
    "        \"refund_class\": \"partial\",\n",
    "        \"reason\": \"Order was delivered 7.97 minutes after the P75 delivery time\",\n",
    "    },\n",
    "    {\n",
    "        \"refund_usd\": 0.0,\n",
    "        \"refund_class\": \"none\",\n",
    "        \"reason\": \"Order was delivered within the P75 delivery time\",\n",
    "    },\n",
    "]"
   ]
  },
  {
   "cell_type": "code",
   "execution_count": 0,
   "metadata": {
    "application/vnd.databricks.v1+cell": {
     "cellMetadata": {},
     "inputWidgets": {},
     "nuid": "5540baa0-a16b-4bd1-a61d-dcb80eb2ce98",
     "showTitle": false,
     "tableResultSettingsMap": {},
     "title": ""
    }
   },
   "outputs": [],
   "source": [
    "from pyspark.sql import functions as F\n",
    "from pyspark.sql.types import StringType\n",
    "from pyspark.sql.functions import udf, explode\n",
    "import json\n",
    "import random\n",
    "\n",
    "from openai import OpenAI\n",
    "\n",
    "def get_chat_completion(content: str) -> str:\n",
    "    client = OpenAI(\n",
    "        api_key=DATABRICKS_TOKEN,\n",
    "        base_url=f\"{DATABRICKS_HOST}/serving-endpoints\",\n",
    "    )\n",
    "    default_response = json.dumps({\n",
    "        \"refund_usd\": 0.0,\n",
    "        \"refund_class\": \"error\",\n",
    "        \"reason\": \"agent did not return valid JSON\"\n",
    "    })\n",
    "    \n",
    "    for _ in range(3):\n",
    "        try:\n",
    "            chat_completion = client.chat.completions.create(\n",
    "                model=f\"{REFUND_AGENT_ENDPOINT_NAME}\",\n",
    "                messages=[{\"role\": \"user\", \"content\": content}],\n",
    "            )\n",
    "        except Exception as e:\n",
    "            # Fake data injection, randomly sampled, when serving endpoint isn't available\n",
    "            response = json.dumps(random.choice(fake_responses))\n",
    "        else:\n",
    "            response = chat_completion.messages[-1].get(\"content\")\n",
    "\n",
    "        try:\n",
    "            json.loads(response)\n",
    "            return response\n",
    "        except json.JSONDecodeError:\n",
    "            continue\n",
    "    \n",
    "    return default_response\n",
    "\n",
    "get_chat_completion_udf = udf(get_chat_completion, StringType())"
   ]
  },
  {
   "cell_type": "code",
   "execution_count": 0,
   "metadata": {
    "application/vnd.databricks.v1+cell": {
     "cellMetadata": {},
     "inputWidgets": {},
     "nuid": "4aa36d99-1219-4998-878e-7d49ff9dad2d",
     "showTitle": false,
     "tableResultSettingsMap": {},
     "title": ""
    }
   },
   "outputs": [],
   "source": [
    "# Get current timestamp statically before starting the stream\n",
    "current_time = F.current_timestamp()\n",
    "\n",
    "refund_recommendations = spark.readStream.table(f\"{CATALOG}.lakeflow.all_events\") \\\n",
    "    .filter(\"event_type = 'delivered'\") \\\n",
    "    .filter(\n",
    "        # For historical data (ts < current_time), sample 10%\n",
    "        # For new data (ts >= current_time), process 100%\n",
    "        (F.col(\"ts\") >= current_time) | \n",
    "        ((F.col(\"ts\") < current_time) & (F.rand() < 0.1))\n",
    "    ) \\\n",
    "    .select(\n",
    "        F.col(\"order_id\"),\n",
    "        F.current_timestamp().alias(\"ts\"),\n",
    "        get_chat_completion_udf(F.col(\"order_id\")).alias(\"agent_response\"),\n",
    "    )"
   ]
  },
  {
   "cell_type": "code",
   "execution_count": 0,
   "metadata": {
    "application/vnd.databricks.v1+cell": {
     "cellMetadata": {},
     "inputWidgets": {},
     "nuid": "1cf733f0-a483-4c1b-a142-e0f0e0539bd1",
     "showTitle": false,
     "tableResultSettingsMap": {},
     "title": ""
    }
   },
   "outputs": [],
   "source": [
    "%sql\n",
    "CREATE SCHEMA IF NOT EXISTS ${CATALOG}.recommender;\n",
    "CREATE VOLUME IF NOT EXISTS ${CATALOG}.recommender.checkpoints;"
   ]
  },
  {
   "cell_type": "code",
   "execution_count": 0,
   "metadata": {
    "application/vnd.databricks.v1+cell": {
     "cellMetadata": {},
     "inputWidgets": {},
     "nuid": "9a12df85-36d4-485d-ac94-74dd12266a89",
     "showTitle": false,
     "tableResultSettingsMap": {},
     "title": ""
    }
   },
   "outputs": [],
   "source": [
    "%sql\n",
    "CREATE TABLE IF NOT EXISTS ${CATALOG}.recommender.refund_recommendations (\n",
    "  order_id STRING,\n",
    "  ts TIMESTAMP,\n",
    "  agent_response STRING\n",
    ")"
   ]
  },
  {
   "cell_type": "code",
   "execution_count": 0,
   "metadata": {
    "application/vnd.databricks.v1+cell": {
     "cellMetadata": {
      "byteLimit": 2048000,
      "implicitDf": true,
      "rowLimit": 10000
     },
     "inputWidgets": {},
     "nuid": "77a3cd40-e993-4308-a860-139372ba8d12",
     "showTitle": false,
     "tableResultSettingsMap": {},
     "title": ""
    }
   },
   "outputs": [],
   "source": [
    "%sql\n",
    "-- TODO: for some reason setting table properties at table creation isn't being detected by table sync\n",
    "-- so we need to make this specific alter call, NO GOOD!!\n",
    "ALTER TABLE ${CATALOG}.recommender.refund_recommendations SET TBLPROPERTIES (delta.enableChangeDataFeed = true)"
   ]
  },
  {
   "cell_type": "code",
   "execution_count": 0,
   "metadata": {
    "application/vnd.databricks.v1+cell": {
     "cellMetadata": {},
     "inputWidgets": {},
     "nuid": "40d33309-fcdc-4e94-a65c-de78aac4422e",
     "showTitle": false,
     "tableResultSettingsMap": {},
     "title": ""
    }
   },
   "outputs": [],
   "source": [
    "refund_recommendations.writeStream \\\n",
    "    .option(\"checkpointLocation\", f\"/Volumes/{CATALOG}/recommender/checkpoints/refundrecommenderstream\") \\\n",
    "    .table(f\"{CATALOG}.recommender.refund_recommendations\")"
   ]
  }
 ],
 "metadata": {
  "application/vnd.databricks.v1+notebook": {
   "computePreferences": null,
   "dashboards": [],
   "environmentMetadata": {
    "base_environment": "",
    "environment_version": "3"
   },
   "inputWidgetPreferences": null,
   "language": "python",
   "notebookMetadata": {
    "mostRecentlyExecutedCommandWithImplicitDF": {
     "commandId": 8812248119570203,
     "dataframes": [
      "_sqldf"
     ]
    },
    "pythonIndentUnit": 4
   },
   "notebookName": "refund_recommender_stream",
   "widgets": {
    "CATALOG": {
     "currentValue": "cazzper",
     "nuid": "4fed5096-973b-4a59-acc5-e4a96cc00360",
     "typedWidgetInfo": {
      "autoCreated": false,
      "defaultValue": "",
      "label": "",
      "name": "CATALOG",
      "options": {
       "validationRegex": null,
       "widgetDisplayType": "Text"
      },
      "parameterDataType": "String"
     },
     "widgetInfo": {
      "defaultValue": "",
      "label": "",
      "name": "CATALOG",
      "options": {
       "autoCreated": false,
       "validationRegex": null,
       "widgetType": "text"
      },
      "widgetType": "text"
     }
    },
    "REFUND_AGENT_ENDPOINT_NAME": {
     "currentValue": "",
     "nuid": "bf162244-8e75-4570-82f4-ef93955c6891",
     "typedWidgetInfo": {
      "autoCreated": false,
      "defaultValue": "",
      "label": "",
      "name": "REFUND_AGENT_ENDPOINT_NAME",
      "options": {
       "validationRegex": null,
       "widgetDisplayType": "Text"
      },
      "parameterDataType": "String"
     },
     "widgetInfo": {
      "defaultValue": "",
      "label": "",
      "name": "REFUND_AGENT_ENDPOINT_NAME",
      "options": {
       "autoCreated": false,
       "validationRegex": null,
       "widgetType": "text"
      },
      "widgetType": "text"
     }
    }
   }
  },
  "language_info": {
   "name": "python"
  }
 },
 "nbformat": 4,
 "nbformat_minor": 0
}

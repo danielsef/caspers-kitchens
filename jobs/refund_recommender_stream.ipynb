{
 "cells": [
  {
   "cell_type": "markdown",
   "metadata": {
    "application/vnd.databricks.v1+cell": {
     "cellMetadata": {},
     "inputWidgets": {},
     "nuid": "d9dd8d3e-2923-4e16-9435-bd2fd134d94f",
     "showTitle": false,
     "tableResultSettingsMap": {},
     "title": ""
    }
   },
   "source": [
    "\n",
    "##### refunder stream\n",
    "\n",
    "this notebook starts a stream to score completed orders for potential refunds"
   ]
  },
  {
   "cell_type": "code",
   "execution_count": 0,
   "metadata": {
    "application/vnd.databricks.v1+cell": {
     "cellMetadata": {},
     "inputWidgets": {},
     "nuid": "54b5ea14-d02b-413b-9f69-86b932322ec0",
     "showTitle": false,
     "tableResultSettingsMap": {},
     "title": ""
    }
   },
   "outputs": [],
   "source": [
    "DATABRICKS_TOKEN = dbutils.notebook.entry_point.getDbutils().notebook().getContext().apiToken().getOrElse(None)\n",
    "DATABRICKS_HOST = dbutils.notebook.entry_point.getDbutils().notebook().getContext().apiUrl().getOrElse(None)\n",
    "\n",
    "CATALOG = dbutils.widgets.get(\"CATALOG\")\n",
    "REFUND_AGENT_ENDPOINT_NAME = dbutils.widgets.get(\"REFUND_AGENT_ENDPOINT_NAME\")"
   ]
  },
  {
   "cell_type": "code",
   "execution_count": 0,
   "metadata": {
    "application/vnd.databricks.v1+cell": {
     "cellMetadata": {},
     "inputWidgets": {},
     "nuid": "b2af6e4b-0a96-4810-9c15-eedb7e84db67",
     "showTitle": false,
     "tableResultSettingsMap": {},
     "title": ""
    }
   },
   "outputs": [],
   "source": [
    "%pip install openai"
   ]
  },
  {
   "cell_type": "code",
   "execution_count": 0,
   "metadata": {
    "application/vnd.databricks.v1+cell": {
     "cellMetadata": {},
     "inputWidgets": {},
     "nuid": "5540baa0-a16b-4bd1-a61d-dcb80eb2ce98",
     "showTitle": false,
     "tableResultSettingsMap": {},
     "title": ""
    }
   },
   "outputs": [],
   "source": [
    "from pyspark.sql import functions as F\n",
    "from pyspark.sql.types import StringType\n",
    "from pyspark.sql.functions import udf, explode\n",
    "import json\n",
    "\n",
    "from openai import OpenAI\n",
    "\n",
    "def get_chat_completion(content: str) -> str:\n",
    "    client = OpenAI(\n",
    "        api_key=DATABRICKS_TOKEN,\n",
    "        base_url=f\"{DATABRICKS_HOST}/serving-endpoints\",\n",
    "    )\n",
    "    default_response = json.dumps({\n",
    "        \"refund_usd\": 0.0,\n",
    "        \"refund_class\": \"error\",\n",
    "        \"reason\": \"agent did not return valid JSON\"\n",
    "    })\n",
    "    \n",
    "    for _ in range(3):\n",
    "        chat_completion = client.chat.completions.create(\n",
    "            model=f\"{REFUND_AGENT_ENDPOINT_NAME}\",\n",
    "            messages=[{\"role\": \"user\", \"content\": content}],\n",
    "        )\n",
    "        response = chat_completion.messages[-1].get(\"content\")\n",
    "        try:\n",
    "            json.loads(response)\n",
    "            return response\n",
    "        except json.JSONDecodeError:\n",
    "            continue\n",
    "    \n",
    "    return default_response\n",
    "\n",
    "get_chat_completion_udf = udf(get_chat_completion, StringType())"
   ]
  },
  {
   "cell_type": "code",
   "execution_count": 0,
   "metadata": {
    "application/vnd.databricks.v1+cell": {
     "cellMetadata": {},
     "inputWidgets": {},
     "nuid": "0c47eac6-7912-47e0-aade-c8bf8eab4ef3",
     "showTitle": false,
     "tableResultSettingsMap": {},
     "title": ""
    }
   },
   "outputs": [],
   "source": [
    "### TODO: we should only score some subset sample of the existing data, otherwise the bootup time is very slow because we end up scoring all past orders, we really only need a few. we need to add a filter to the next cell to do only X% of orders up until current time (time the job runs) and then score 100% of new orders (no problem to keep up)"
   ]
  },
  {
   "cell_type": "code",
   "execution_count": 0,
   "metadata": {
    "application/vnd.databricks.v1+cell": {
     "cellMetadata": {},
     "inputWidgets": {},
     "nuid": "4aa36d99-1219-4998-878e-7d49ff9dad2d",
     "showTitle": false,
     "tableResultSettingsMap": {},
     "title": ""
    }
   },
   "outputs": [],
   "source": [
    "refund_recommendations = spark.readStream.table(f\"{CATALOG}.lakeflow.all_events\") \\\n",
    "    .filter(\"event_type = 'delivered'\") \\\n",
    "    .select(\n",
    "        F.col(\"order_id\"),\n",
    "        F.current_timestamp().alias(\"ts\"),\n",
    "        get_chat_completion_udf(F.col(\"order_id\")).alias(\"agent_response\"),\n",
    "    )"
   ]
  },
  {
   "cell_type": "code",
   "execution_count": 0,
   "metadata": {
    "application/vnd.databricks.v1+cell": {
     "cellMetadata": {},
     "inputWidgets": {},
     "nuid": "1cf733f0-a483-4c1b-a142-e0f0e0539bd1",
     "showTitle": false,
     "tableResultSettingsMap": {},
     "title": ""
    }
   },
   "outputs": [],
   "source": [
    "%sql\n",
    "CREATE SCHEMA IF NOT EXISTS ${CATALOG}.recommender;\n",
    "CREATE VOLUME IF NOT EXISTS ${CATALOG}.recommender.checkpoints;"
   ]
  },
  {
   "cell_type": "code",
   "execution_count": 0,
   "metadata": {
    "application/vnd.databricks.v1+cell": {
     "cellMetadata": {},
     "inputWidgets": {},
     "nuid": "9a12df85-36d4-485d-ac94-74dd12266a89",
     "showTitle": false,
     "tableResultSettingsMap": {},
     "title": ""
    }
   },
   "outputs": [],
   "source": [
    "%sql\n",
    "CREATE TABLE IF NOT EXISTS ${CATALOG}.recommender.refund_recommendations (\n",
    "  order_id STRING,\n",
    "  ts TIMESTAMP,\n",
    "  agent_response STRING\n",
    ")"
   ]
  },
  {
   "cell_type": "code",
   "execution_count": 0,
   "metadata": {
    "application/vnd.databricks.v1+cell": {
     "cellMetadata": {
      "byteLimit": 2048000,
      "implicitDf": true,
      "rowLimit": 10000
     },
     "inputWidgets": {},
     "nuid": "77a3cd40-e993-4308-a860-139372ba8d12",
     "showTitle": false,
     "tableResultSettingsMap": {},
     "title": ""
    }
   },
   "outputs": [],
   "source": [
    "%sql\n",
    "-- TODO: for some reason setting table properties at table creation isn't being detected by table sync\n",
    "-- so we need to make this specific alter call, NO GOOD!!\n",
    "ALTER TABLE ${CATALOG}.recommender.refund_recommendations SET TBLPROPERTIES (delta.enableChangeDataFeed = true)"
   ]
  },
  {
   "cell_type": "code",
   "execution_count": 0,
   "metadata": {
    "application/vnd.databricks.v1+cell": {
     "cellMetadata": {},
     "inputWidgets": {},
     "nuid": "40d33309-fcdc-4e94-a65c-de78aac4422e",
     "showTitle": false,
     "tableResultSettingsMap": {},
     "title": ""
    }
   },
   "outputs": [],
   "source": [
    "refund_recommendations.writeStream \\\n",
    "    .option(\"checkpointLocation\", f\"/Volumes/{CATALOG}/recommender/checkpoints/refundrecommenderstream\") \\\n",
    "    .trigger(availableNow=True) \\\n",
    "    .table(f\"{CATALOG}.recommender.refund_recommendations\")"
   ]
  }
 ],
 "metadata": {
  "application/vnd.databricks.v1+notebook": {
   "computePreferences": null,
   "dashboards": [],
   "environmentMetadata": {
    "base_environment": "",
    "environment_version": "3"
   },
   "inputWidgetPreferences": null,
   "language": "python",
   "notebookMetadata": {
    "mostRecentlyExecutedCommandWithImplicitDF": {
     "commandId": 8812248119570203,
     "dataframes": [
      "_sqldf"
     ]
    },
    "pythonIndentUnit": 4
   },
   "notebookName": "refund_recommender_stream",
   "widgets": {
    "CATALOG": {
     "currentValue": "cazzper",
     "nuid": "4fed5096-973b-4a59-acc5-e4a96cc00360",
     "typedWidgetInfo": {
      "autoCreated": false,
      "defaultValue": "",
      "label": "",
      "name": "CATALOG",
      "options": {
       "widgetDisplayType": "Text",
       "validationRegex": null
      },
      "parameterDataType": "String"
     },
     "widgetInfo": {
      "widgetType": "text",
      "defaultValue": "",
      "label": "",
      "name": "CATALOG",
      "options": {
       "widgetType": "text",
       "autoCreated": false,
       "validationRegex": null
      }
     }
    },
    "REFUND_AGENT_ENDPOINT_NAME": {
     "currentValue": "",
     "nuid": "bf162244-8e75-4570-82f4-ef93955c6891",
     "typedWidgetInfo": {
      "autoCreated": false,
      "defaultValue": "",
      "label": "",
      "name": "REFUND_AGENT_ENDPOINT_NAME",
      "options": {
       "widgetDisplayType": "Text",
       "validationRegex": null
      },
      "parameterDataType": "String"
     },
     "widgetInfo": {
      "widgetType": "text",
      "defaultValue": "",
      "label": "",
      "name": "REFUND_AGENT_ENDPOINT_NAME",
      "options": {
       "widgetType": "text",
       "autoCreated": false,
       "validationRegex": null
      }
     }
    }
   }
  },
  "language_info": {
   "name": "python"
  }
 },
 "nbformat": 4,
 "nbformat_minor": 0
}

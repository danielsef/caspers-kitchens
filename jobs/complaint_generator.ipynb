{
 "cells": [
  {
   "cell_type": "markdown",
   "metadata": {},
   "source": [
    "##### Complaint Generator\n",
    "\n",
    "This notebook generates synthetic customer complaints from delivered orders using AI SQL functions"
   ]
  },
  {
   "cell_type": "code",
   "execution_count": null,
   "metadata": {},
   "outputs": [],
   "source": [
    "CATALOG = dbutils.widgets.get(\"CATALOG\")\n",
    "COMPLAINT_RATE = float(dbutils.widgets.get(\"COMPLAINT_RATE\"))\n",
    "LLM_MODEL = dbutils.widgets.get(\"LLM_MODEL\")"
   ]
  },
  {
   "cell_type": "code",
   "execution_count": null,
   "metadata": {},
   "outputs": [],
   "source": [
    "from pyspark.sql import functions as F\n",
    "from pyspark.sql.types import StringType\n",
    "import random\n",
    "\n",
    "# Complaint category weights\n",
    "CATEGORIES = [\"delivery_delay\", \"missing_items\", \"food_quality\", \"service_issue\", \"other\"]\n",
    "WEIGHTS = [0.40, 0.25, 0.20, 0.10, 0.05]\n",
    "\n",
    "# Create a deterministic but varied category assignment\n",
    "# Using hash of order_id to ensure same order always gets same category\n",
    "@F.udf(returnType=StringType())\n",
    "def assign_category(order_id: str) -> str:\n",
    "    \"\"\"Assign category based on hash of order_id for deterministic but varied distribution.\"\"\"\n",
    "    # Use hash to get deterministic random selection\n",
    "    seed = hash(order_id) % (2**31)\n",
    "    rng = random.Random(seed)\n",
    "    return rng.choices(CATEGORIES, weights=WEIGHTS, k=1)[0]"
   ]
  },
  {
   "cell_type": "code",
   "execution_count": null,
   "metadata": {},
   "outputs": [],
   "source": [
    "# Create schema and checkpoint volume\n",
    "spark.sql(f\"CREATE SCHEMA IF NOT EXISTS {CATALOG}.complaints\")\n",
    "spark.sql(f\"CREATE VOLUME IF NOT EXISTS {CATALOG}.complaints.checkpoints\")"
   ]
  },
  {
   "cell_type": "code",
   "execution_count": null,
   "metadata": {},
   "outputs": [],
   "source": [
    "# Stream processing pipeline\n",
    "# Samples COMPLAINT_RATE of both historical and new delivered orders\n",
    "complaints_stream = (\n",
    "    spark.readStream\n",
    "    .table(f\"{CATALOG}.lakeflow.all_events\")\n",
    "    .filter(\"event_type = 'delivered'\")\n",
    "    .filter(F.rand() < COMPLAINT_RATE)  # Sample orders for complaints (same rate for historical and new)\n",
    "    .withColumn(\"complaint_id\", F.expr(\"uuid()\"))\n",
    "    .withColumn(\"complaint_category\", assign_category(F.col(\"order_id\")))\n",
    "    .withColumn(\"ts\", F.current_timestamp())\n",
    "    .selectExpr(\n",
    "        \"complaint_id\",\n",
    "        \"order_id\",\n",
    "        \"ts\",\n",
    "        \"complaint_category\",\n",
    "        f\"\"\"ai_gen(\n",
    "            concat(\n",
    "                'You are an upset customer writing a complaint about your food delivery. ',\n",
    "                'Write a realistic 1-2 sentence complaint about: ', \n",
    "                complaint_category, \n",
    "                '. Order ID: ', \n",
    "                order_id, \n",
    "                '. Be specific and sound frustrated but realistic. Do not include greeting or signature.'\n",
    "            )\n",
    "        ) as complaint_text\"\"\",\n",
    "        \"'llm_generator' as generated_by\"\n",
    "    )\n",
    ")"
   ]
  },
  {
   "cell_type": "code",
   "execution_count": null,
   "metadata": {},
   "outputs": [],
   "source": [
    "# Create target table schema\n",
    "spark.sql(f\"\"\"\n",
    "CREATE TABLE IF NOT EXISTS {CATALOG}.complaints.raw_complaints (\n",
    "  complaint_id STRING,\n",
    "  order_id STRING,\n",
    "  ts TIMESTAMP,\n",
    "  complaint_category STRING,\n",
    "  complaint_text STRING,\n",
    "  generated_by STRING\n",
    ")\n",
    "\"\"\")"
   ]
  },
  {
   "cell_type": "code",
   "execution_count": null,
   "metadata": {},
   "outputs": [],
   "source": [
    "# Write stream to raw_complaints table\n",
    "complaints_stream.writeStream \\\n",
    "    .option(\"checkpointLocation\", f\"/Volumes/{CATALOG}/complaints/checkpoints/complaint_generator\") \\\n",
    "    .trigger(availableNow=True) \\\n",
    "    .table(f\"{CATALOG}.complaints.raw_complaints\")"
   ]
  }
 ],
 "metadata": {
  "kernelspec": {
   "display_name": "Python 3",
   "language": "python",
   "name": "python3"
  },
  "language_info": {
   "name": "python",
   "version": "3.9.0"
  }
 },
 "nbformat": 4,
 "nbformat_minor": 2
}
